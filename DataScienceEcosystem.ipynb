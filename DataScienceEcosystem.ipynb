{
  "nbformat": 4,
  "nbformat_minor": 0,
  "metadata": {
    "colab": {
      "provenance": []
    },
    "kernelspec": {
      "name": "python3",
      "display_name": "Python 3"
    },
    "language_info": {
      "name": "python"
    }
  },
  "cells": [
    {
      "cell_type": "markdown",
      "source": [
        "<H1>Data Science Tools and Ecosystem</H1>"
      ],
      "metadata": {
        "id": "YcN9meL4pNHB"
      }
    },
    {
      "cell_type": "markdown",
      "source": [
        "<H3>In this notebook, Data Science Tools and Ecosystem are summarized.<H3>"
      ],
      "metadata": {
        "id": "57UD6RZ1qkhV"
      }
    },
    {
      "cell_type": "markdown",
      "source": [
        "Objectives:\n",
        "\n",
        "*   Learning popular data science tools\n",
        "*   Learning popular data science langauages\n",
        "*   Learning main data science tasks\n",
        "\n"
      ],
      "metadata": {
        "id": "SMful_ySvLwF"
      }
    },
    {
      "cell_type": "markdown",
      "source": [
        "Some of the popular languages that Data Scientists use are:\n",
        "\n",
        "\n",
        "1.   Python\n",
        "2.   R\n",
        "3.   SQL\n",
        "\n",
        "\n",
        "\n",
        "\n",
        "\n"
      ],
      "metadata": {
        "id": "Q3yEhqmlq2Ig"
      }
    },
    {
      "cell_type": "markdown",
      "source": [
        "Some of the commonly used libraries used by Data Scientists include:\n",
        "\n",
        "\n",
        "1.   Pandas\n",
        "2.   Matplotlib\n",
        "3.   Pytorch\n",
        "\n"
      ],
      "metadata": {
        "id": "LQPzFS-srQsg"
      }
    },
    {
      "cell_type": "markdown",
      "source": [
        "| Data Science Tools |\n",
        "| --- |\n",
        "| RStudio |\n",
        "| Jupiter Note Book |\n",
        "| MySQL Workbench |"
      ],
      "metadata": {
        "id": "TLZBw7n2rwXe"
      }
    },
    {
      "cell_type": "markdown",
      "source": [
        "<H3>Below are a few examples of evaluating arithmetic expressions in Python</H3>\n",
        "\n",
        "\n",
        "*   x = 5 + 3\n",
        "*   y = 5 - 3\n",
        "*   z = x + y\n",
        "\n"
      ],
      "metadata": {
        "id": "zaQRfBugs723"
      }
    },
    {
      "cell_type": "code",
      "source": [
        "# This a simple arithmetic expression to mutiply then add integers\n",
        "(3*4)+5"
      ],
      "metadata": {
        "colab": {
          "base_uri": "https://localhost:8080/",
          "height": 0
        },
        "id": "iEkmDG0uuX_u",
        "outputId": "eb267950-6344-4bc6-98a8-435175fc5919"
      },
      "execution_count": 5,
      "outputs": [
        {
          "output_type": "execute_result",
          "data": {
            "text/plain": [
              "17"
            ]
          },
          "metadata": {},
          "execution_count": 5
        }
      ]
    },
    {
      "cell_type": "code",
      "source": [
        "# This will convert 200 minutes to hours by diving by 60\n",
        "200/6"
      ],
      "metadata": {
        "colab": {
          "base_uri": "https://localhost:8080/",
          "height": 0
        },
        "id": "IuPfCbosuYrS",
        "outputId": "6816d026-f828-491c-e90c-ab093c44ac7f"
      },
      "execution_count": 6,
      "outputs": [
        {
          "output_type": "execute_result",
          "data": {
            "text/plain": [
              "33.333333333333336"
            ]
          },
          "metadata": {},
          "execution_count": 6
        }
      ]
    },
    {
      "cell_type": "markdown",
      "source": [
        "<H2>Author</H2>\n",
        "Pasidalee Dissanayake"
      ],
      "metadata": {
        "id": "3vHvG5nZvxat"
      }
    },
    {
      "cell_type": "code",
      "source": [],
      "metadata": {
        "id": "dUiumYBRwHsB"
      },
      "execution_count": null,
      "outputs": []
    }
  ]
}